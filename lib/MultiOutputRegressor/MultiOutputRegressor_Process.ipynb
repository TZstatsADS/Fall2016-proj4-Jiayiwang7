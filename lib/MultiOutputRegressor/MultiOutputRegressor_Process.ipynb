{
 "cells": [
  {
   "cell_type": "code",
   "execution_count": 5,
   "metadata": {
    "collapsed": true
   },
   "outputs": [],
   "source": [
    "from sklearn.multioutput import MultiOutputRegressor\n",
    "from sklearn.ensemble import GradientBoostingRegressor\n",
    "from sklearn.ensemble import RandomForestRegressor\n",
    "import pandas as pd\n",
    "from sklearn.externals import joblib"
   ]
  },
  {
   "cell_type": "code",
   "execution_count": null,
   "metadata": {
    "collapsed": true
   },
   "outputs": [],
   "source": [
    "def multi_gb(feature):    \n",
    "    \n",
    "    x = feature\n",
    "    test_words = pd.read_csv('/Users/dd/Desktop/Columbia/Applied Data Science/Project4/lyr.csv')\n",
    "    test_w = test_words.ix[:,'blank_':]\n",
    "    test_w.index = test_words['dat2$track_id'].tolist()\n",
    "    y = test_w\n",
    "    clf = MultiOutputRegressor(GradientBoostingRegressor(random_state = 7)).fit(x, y)\n",
    "    joblib.dump(clf, 'mul.pkl') \n",
    "    return clf"
   ]
  },
  {
   "cell_type": "code",
   "execution_count": null,
   "metadata": {
    "collapsed": true
   },
   "outputs": [],
   "source": [
    "def multi_gb_2(feature):    \n",
    "    \n",
    "    x = feature.ix[:2000,:]\n",
    "    test_words = pd.read_csv('/Users/dd/Desktop/Columbia/Applied Data Science/Project4/lyr.csv')\n",
    "    test_w = test_words.ix[:,'blank_':]\n",
    "    test_w.index = test_words['dat2$track_id'].tolist()\n",
    "    y = test_w.ix[:2000,:]\n",
    "    clf = MultiOutputRegressor(GradientBoostingRegressor(random_state = 7)).fit(x, y)\n",
    "    joblib.dump(clf, 'mul_test.pkl') \n",
    "    return clf"
   ]
  },
  {
   "cell_type": "code",
   "execution_count": null,
   "metadata": {
    "collapsed": true
   },
   "outputs": [],
   "source": [
    "def multi_rf(feature, n_t, n_d):\n",
    "    \n",
    "    x = feature\n",
    "    test_words = pd.read_csv('lyr.csv')\n",
    "    test_w = test_words.ix[:,'blank_':]\n",
    "    test_w.index = test_words['dat2$track_id'].tolist()\n",
    "    y = test_w\n",
    "    clf = MultiOutputRegressor(RandomForestRegressor(n_estimators = n_t, max_depth = n_d, random_state = 7)).fit(x, y)\n",
    "    joblib.dump(clf, 'mul.pkl') \n",
    "    "
   ]
  },
  {
   "cell_type": "code",
   "execution_count": 6,
   "metadata": {
    "collapsed": false
   },
   "outputs": [],
   "source": [
    "feature = pd.read_pickle('/Users/dd/Desktop/Columbia/Applied Data Science/Project4/feature.pickle')\n",
    "\n",
    "x = feature\n",
    "\n",
    "test_words = pd.read_csv('lyr.csv')\n",
    "test_w = test_words.ix[:,'blank_':]\n",
    "test_w.index = test_words['dat2$track_id'].tolist()\n"
   ]
  },
  {
   "cell_type": "code",
   "execution_count": 14,
   "metadata": {
    "collapsed": false
   },
   "outputs": [
    {
     "data": {
      "text/plain": [
       "Index(['TRAAABD128F429CF47', 'TRAAAEF128F4273421', 'TRAAAFD128F92F423A',\n",
       "       'TRAAARJ128F9320760', 'TRAABJV128F1460C49', 'TRAABLR128F423B7E3',\n",
       "       'TRAABVM128F92CA9DC', 'TRAACER128F4290F96', 'TRAACFV128F935E50B',\n",
       "       'TRAACHN128F1489601',\n",
       "       ...\n",
       "       'TRBIGRY128F42597B3', 'TRBIGTG128F92EDBAC', 'TRBIHAU128F425C317',\n",
       "       'TRBIIEU128F9307C88', 'TRBIIOT128F423C594', 'TRBIIXI128F9344121',\n",
       "       'TRBIJES12903CF5B12', 'TRBIJFB128F92ED124', 'TRBIJMU12903CF892B',\n",
       "       'TRBIJYB128F14AE326'],\n",
       "      dtype='object', length=2350)"
      ]
     },
     "execution_count": 14,
     "metadata": {},
     "output_type": "execute_result"
    }
   ],
   "source": [
    "test_w.index"
   ]
  },
  {
   "cell_type": "code",
   "execution_count": 7,
   "metadata": {
    "collapsed": false
   },
   "outputs": [],
   "source": [
    "x_f = x.ix[:2200,:]\n",
    "y_f = test_w.ix[:2200, :]\n",
    "x_t = x.ix[2200:, :]"
   ]
  },
  {
   "cell_type": "code",
   "execution_count": 9,
   "metadata": {
    "collapsed": false
   },
   "outputs": [],
   "source": [
    "clf = MultiOutputRegressor(RandomForestRegressor(max_depth = 2, random_state = 7)).fit(x_f, y_f)"
   ]
  },
  {
   "cell_type": "code",
   "execution_count": null,
   "metadata": {
    "collapsed": true
   },
   "outputs": [],
   "source": [
    "clf_2 = MultiOutputRegressor(RandomForestRegressor(n_estimators = 100, max_depth = 2, random_state = 7)).fit(x_f, y_f)"
   ]
  },
  {
   "cell_type": "code",
   "execution_count": 10,
   "metadata": {
    "collapsed": false
   },
   "outputs": [],
   "source": [
    "pred = clf.predict(x_t)"
   ]
  },
  {
   "cell_type": "code",
   "execution_count": 40,
   "metadata": {
    "collapsed": true
   },
   "outputs": [],
   "source": [
    "pred_2 = clf.predict(x_f)"
   ]
  },
  {
   "cell_type": "code",
   "execution_count": 16,
   "metadata": {
    "collapsed": true
   },
   "outputs": [],
   "source": [
    "index = test_w.index.tolist()[2200:]"
   ]
  },
  {
   "cell_type": "code",
   "execution_count": 17,
   "metadata": {
    "collapsed": false
   },
   "outputs": [],
   "source": [
    "df = pd.DataFrame(pred, index = test_w.index.tolist()[2200:])"
   ]
  },
  {
   "cell_type": "code",
   "execution_count": 41,
   "metadata": {
    "collapsed": true
   },
   "outputs": [],
   "source": [
    "df_2 = pd.DataFrame(pred_2, index = test_w.index.tolist()[:2200])"
   ]
  },
  {
   "cell_type": "code",
   "execution_count": 23,
   "metadata": {
    "collapsed": false
   },
   "outputs": [],
   "source": [
    "df.columns = test_w.columns.values"
   ]
  },
  {
   "cell_type": "code",
   "execution_count": 42,
   "metadata": {
    "collapsed": true
   },
   "outputs": [],
   "source": [
    "df_2.columns = test_w.columns.values"
   ]
  },
  {
   "cell_type": "code",
   "execution_count": 30,
   "metadata": {
    "collapsed": false
   },
   "outputs": [],
   "source": [
    "from scipy.stats import rankdata\n",
    "for i in range(len(df)):\n",
    "    ls_freq = df.ix[i].values.tolist()\n",
    "    ls_ne = [-x for x in ls_freq]\n",
    "    rank = rankdata(ls_ne).tolist()\n",
    "    df.iloc[i] = rank"
   ]
  },
  {
   "cell_type": "code",
   "execution_count": 43,
   "metadata": {
    "collapsed": true
   },
   "outputs": [],
   "source": [
    "from scipy.stats import rankdata\n",
    "for i in range(len(df_2)):\n",
    "    ls_freq = df_2.ix[i].values.tolist()\n",
    "    ls_ne = [-x for x in ls_freq]\n",
    "    rank = rankdata(ls_ne).tolist()\n",
    "    df_2.iloc[i] = rank"
   ]
  },
  {
   "cell_type": "code",
   "execution_count": 46,
   "metadata": {
    "collapsed": false
   },
   "outputs": [
    {
     "data": {
      "text/plain": [
       "2200"
      ]
     },
     "execution_count": 46,
     "metadata": {},
     "output_type": "execute_result"
    }
   ],
   "source": [
    "len(df_2)"
   ]
  },
  {
   "cell_type": "code",
   "execution_count": 53,
   "metadata": {
    "collapsed": false
   },
   "outputs": [
    {
     "data": {
      "text/plain": [
       "2350"
      ]
     },
     "execution_count": 53,
     "metadata": {},
     "output_type": "execute_result"
    }
   ],
   "source": [
    "len(test_words)"
   ]
  },
  {
   "cell_type": "code",
   "execution_count": 52,
   "metadata": {
    "collapsed": false
   },
   "outputs": [
    {
     "data": {
      "text/plain": [
       "2201"
      ]
     },
     "execution_count": 52,
     "metadata": {},
     "output_type": "execute_result"
    }
   ],
   "source": [
    "len(test_words.ix[:2200, :])"
   ]
  },
  {
   "cell_type": "code",
   "execution_count": 32,
   "metadata": {
    "collapsed": true
   },
   "outputs": [],
   "source": [
    "def eval_score(test_words, rank_table):\n",
    "    \n",
    "    test_w = test_words.ix[:,'blank_':]\n",
    "    test_w.index = test_words['dat2$track_id'].tolist()\n",
    "    \n",
    "    results = []\n",
    "    for i in range(len(test_w.index)):\n",
    "        ls = test_w.ix[i].nonzero()[0].tolist()\n",
    "        words_rank = rank_table.ix[i].iloc[ls].tolist()\n",
    "        rank_bar = sum(words_rank)/(len(ls) * sum(rank_table.ix[i])/5000)\n",
    "        results.append(rank_bar)\n",
    "    return(results)\n",
    "    "
   ]
  },
  {
   "cell_type": "code",
   "execution_count": 38,
   "metadata": {
    "collapsed": true
   },
   "outputs": [],
   "source": [
    "import numpy as np"
   ]
  },
  {
   "cell_type": "code",
   "execution_count": 49,
   "metadata": {
    "collapsed": false
   },
   "outputs": [],
   "source": [
    "score = eval_score(test_words.ix[2200:, :],df)"
   ]
  },
  {
   "cell_type": "code",
   "execution_count": 54,
   "metadata": {
    "collapsed": false
   },
   "outputs": [],
   "source": [
    "score_2 = eval_score(test_words.ix[:2199, :],df_2)"
   ]
  },
  {
   "cell_type": "code",
   "execution_count": 39,
   "metadata": {
    "collapsed": false
   },
   "outputs": [
    {
     "data": {
      "text/plain": [
       "0.48175517946869567"
      ]
     },
     "execution_count": 39,
     "metadata": {},
     "output_type": "execute_result"
    }
   ],
   "source": [
    "np.mean(score)"
   ]
  },
  {
   "cell_type": "code",
   "execution_count": 55,
   "metadata": {
    "collapsed": false
   },
   "outputs": [
    {
     "data": {
      "text/plain": [
       "0.023477523743403124"
      ]
     },
     "execution_count": 55,
     "metadata": {},
     "output_type": "execute_result"
    }
   ],
   "source": [
    "np.mean(score_2)"
   ]
  }
 ],
 "metadata": {
  "anaconda-cloud": {},
  "kernelspec": {
   "display_name": "Python [Root]",
   "language": "python",
   "name": "Python [Root]"
  },
  "language_info": {
   "codemirror_mode": {
    "name": "ipython",
    "version": 3
   },
   "file_extension": ".py",
   "mimetype": "text/x-python",
   "name": "python",
   "nbconvert_exporter": "python",
   "pygments_lexer": "ipython3",
   "version": "3.5.2"
  }
 },
 "nbformat": 4,
 "nbformat_minor": 0
}
